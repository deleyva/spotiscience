{
 "cells": [
  {
   "cell_type": "code",
   "execution_count": 1,
   "metadata": {},
   "outputs": [],
   "source": [
    "from spotiscience.credentials import CREDENTIALS\n",
    "import spotiscience.downloader as downloader\n",
    "import json\n",
    "\n",
    "sd = downloader.SpotiScienceDownloader(credentials=CREDENTIALS)\n",
    "song_copy_link = (\n",
    "    \"https://open.spotify.com/track/0VjIjW4GlUZAMYd2vXMi3b?si=369f90167c9d48fb\"\n",
    ")\n",
    "song = sd.get_song_features(song_id=song_copy_link)\n",
    "song_data = dict(song)\n"
   ]
  },
  {
   "cell_type": "code",
   "execution_count": 2,
   "metadata": {},
   "outputs": [
    {
     "name": "stdout",
     "output_type": "stream",
     "text": [
      "Searching for \"Blinding Lights\" by The Weeknd...\n",
      "Done.\n"
     ]
    }
   ],
   "source": [
    "song_data[\"lyrics\"] = sd.get_song_lyrics(songname=song[\"name\"], artistname=song[\"artist\"])"
   ]
  },
  {
   "cell_type": "code",
   "execution_count": 3,
   "metadata": {},
   "outputs": [],
   "source": [
    "song_data[\"genre\"] = sd.get_song_music_genre(song_id=song[\"id\"])"
   ]
  },
  {
   "cell_type": "code",
   "execution_count": 5,
   "metadata": {},
   "outputs": [
    {
     "name": "stderr",
     "output_type": "stream",
     "text": [
      "/home/deleyva/Documentos/2021/spotiscience/venv/lib/python3.8/site-packages/spacy/util.py:833: UserWarning: [W095] Model 'en_core_web_lg' (3.0.0) was trained with spaCy v3.0 and may not be 100% compatible with the current version (3.2.0). If you see errors or degraded performance, download a newer compatible model or retrain your custom model with the current spaCy version. For more details and available updates, run: python -m spacy validate\n",
      "  warnings.warn(warn_msg)\n",
      "/home/deleyva/Documentos/2021/spotiscience/venv/lib/python3.8/site-packages/spacy/util.py:833: UserWarning: [W095] Model 'es_core_news_lg' (3.0.0) was trained with spaCy v3.0 and may not be 100% compatible with the current version (3.2.0). If you see errors or degraded performance, download a newer compatible model or retrain your custom model with the current spaCy version. For more details and available updates, run: python -m spacy validate\n",
      "  warnings.warn(warn_msg)\n"
     ]
    }
   ],
   "source": [
    "import spotiscience.prediction as prediction\n",
    "\n",
    "sdp = prediction.SpotiSciencePredicter()"
   ]
  },
  {
   "cell_type": "code",
   "execution_count": 6,
   "metadata": {},
   "outputs": [],
   "source": [
    "song_data[\"mood\"] = sdp.predict_song_mood(song=song)"
   ]
  },
  {
   "cell_type": "code",
   "execution_count": 7,
   "metadata": {},
   "outputs": [
    {
     "data": {
      "text/plain": [
       "{'id': '0VjIjW4GlUZAMYd2vXMi3b',\n",
       " 'name': 'Blinding Lights',\n",
       " 'artist': 'The Weeknd',\n",
       " 'album': 'After Hours',\n",
       " 'release_date': '2020-03-20',\n",
       " 'popularity': 93,\n",
       " 'length': 200040,\n",
       " 'acousticness': 0.00146,\n",
       " 'danceability': 0.514,\n",
       " 'energy': 0.73,\n",
       " 'instrumentalness': 9.54e-05,\n",
       " 'liveness': 0.0897,\n",
       " 'valence': 0.334,\n",
       " 'loudness': -5.934,\n",
       " 'speechiness': 0.0598,\n",
       " 'tempo': 171.005,\n",
       " 'key': 1,\n",
       " 'time_signature': 4,\n",
       " 'lyrics': \"Blinding Lights Lyrics\\nYeah\\n\\nI've been tryna call\\nI've been on my own for long enough\\nMaybe you can show me\\u2005how\\u2005to love, maybe\\nI'm\\u2005going through withdrawals\\nYou don't even have\\u2005to do too much\\nYou can turn me on with just a touch, baby\\n\\nI look around and\\nSin City's cold and empty (Oh)\\nNo one's around to judge me (Oh)\\nI can't see clearly when you're gone\\n\\nI said, ooh, I'm blinded by the lights\\nNo, I can't sleep until I feel your touch\\nI said, ooh, I'm drowning in the night\\nOh, when I'm like this, you're the one I trust\\nHey, hey, hey\\n\\nI'm running out of time\\n'Cause I can see the sun light up the sky\\nSo I hit the road in overdrive, baby, oh\\nThe city's cold and empty (Oh)\\nNo one's around to judge me (Oh)\\nI can't see clearly when you're gone\\n\\nI said, ooh, I'm blinded by the lights\\nNo, I can't sleep until I feel your touch\\nI said, ooh, I'm drowning in the night\\nOh, when I'm like this, you're the one I trust\\n\\nI'm just calling back to let you know (Back to let you know)\\nI could never say it on the phone (Say it on the phone)\\nWill never let you go this time (Ooh)\\n\\nI said, ooh, I'm blinded by the lights\\nNo, I can't sleep until I feel your touch\\nHey, hey, hey\\nHey, hey, hey\\n\\nI said, ooh, I'm blinded by the lights\\nNo, I can't sleep until I feel your touch257Embed\",\n",
       " 'genre': ['canadian contemporary r&b', 'canadian pop', 'pop'],\n",
       " 'mood': 'happy'}"
      ]
     },
     "execution_count": 7,
     "metadata": {},
     "output_type": "execute_result"
    }
   ],
   "source": [
    "song_data"
   ]
  },
  {
   "cell_type": "code",
   "execution_count": 8,
   "metadata": {},
   "outputs": [
    {
     "data": {
      "text/plain": [
       "defaultdict(list,\n",
       "            {'Topic 0:': [[('hey', 7.668891269981675),\n",
       "               ('touch', 4.499051254653231),\n",
       "               ('feel', 3.7047315126009357),\n",
       "               ('sleep', 3.6778236131417033),\n",
       "               ('phone', 2.160583383239145)]],\n",
       "             'Topic 1:': [[('ooh', 6.1844428131099916),\n",
       "               ('light', 4.558113953713752),\n",
       "               ('blind', 4.46490775876485),\n",
       "               ('let', 2.932980082118981),\n",
       "               ('night', 2.2046587186985893)]]})"
      ]
     },
     "execution_count": 8,
     "metadata": {},
     "output_type": "execute_result"
    }
   ],
   "source": [
    "sdp.predict_topic_lyric(\n",
    "    lyric=song_data[\"lyrics\"],\n",
    "    model=\"lda\",\n",
    "    lang=\"english\",\n",
    "    n_grams=(1,1),\n",
    "    n_topics=2,\n",
    "    top_n=5,\n",
    "    )\n"
   ]
  },
  {
   "cell_type": "code",
   "execution_count": null,
   "metadata": {},
   "outputs": [],
   "source": []
  }
 ],
 "metadata": {
  "interpreter": {
   "hash": "a465982ef49ba33c8e33e06877fa3b54762b1869734a51995617a8a3afec3488"
  },
  "kernelspec": {
   "display_name": "Python 3.8.10 64-bit ('venv': venv)",
   "language": "python",
   "name": "python3"
  },
  "language_info": {
   "codemirror_mode": {
    "name": "ipython",
    "version": 3
   },
   "file_extension": ".py",
   "mimetype": "text/x-python",
   "name": "python",
   "nbconvert_exporter": "python",
   "pygments_lexer": "ipython3",
   "version": "3.8.10"
  },
  "orig_nbformat": 4
 },
 "nbformat": 4,
 "nbformat_minor": 2
}
